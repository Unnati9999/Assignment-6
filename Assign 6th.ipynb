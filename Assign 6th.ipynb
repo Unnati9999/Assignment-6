{
 "cells": [
  {
   "cell_type": "code",
   "execution_count": 9,
   "id": "761d8793-bef8-4002-b44c-1d0757843daa",
   "metadata": {},
   "outputs": [],
   "source": [
    "class pwskills:\n",
    "    \n",
    "    def welcome_msg(self):\n",
    "        print(\"welcome to pwskills\")"
   ]
  },
  {
   "cell_type": "code",
   "execution_count": 10,
   "id": "e993c4e5-fe2e-4ce2-8448-8dcf2e996530",
   "metadata": {},
   "outputs": [],
   "source": [
    "unnu = pwskills()"
   ]
  },
  {
   "cell_type": "code",
   "execution_count": 12,
   "id": "22668531-fc79-4a67-90af-5e97491b1114",
   "metadata": {},
   "outputs": [
    {
     "name": "stdout",
     "output_type": "stream",
     "text": [
      "welcome to pwskills\n"
     ]
    }
   ],
   "source": [
    "unnu.welcome_msg()"
   ]
  },
  {
   "cell_type": "code",
   "execution_count": 13,
   "id": "0b092823-47f0-4c56-9e43-73a01ab58bc3",
   "metadata": {},
   "outputs": [],
   "source": [
    "#Abstraction.\n",
    "#Encapsulation.\n",
    "#Inheritance.\n",
    "#Polymorphism."
   ]
  },
  {
   "cell_type": "code",
   "execution_count": 35,
   "id": "d8d204b1-e693-4235-a5f6-c5077b896a10",
   "metadata": {},
   "outputs": [],
   "source": [
    "class person:\n",
    "    \n",
    "    def __init__(self , name, age , gender):\n",
    "        self.name = name\n",
    "        self.age = age\n",
    "        self.gender = gender\n",
    "        \n",
    "    def person_details(self):\n",
    "        pass"
   ]
  },
  {
   "cell_type": "code",
   "execution_count": 36,
   "id": "22f34290-d565-4d71-b445-06b5d78970c4",
   "metadata": {},
   "outputs": [],
   "source": [
    "pw = person(\"unnu\" , 16 , \"female\")"
   ]
  },
  {
   "cell_type": "code",
   "execution_count": 37,
   "id": "df4e5bc7-69a5-4e36-94ad-f8b932b14676",
   "metadata": {},
   "outputs": [
    {
     "data": {
      "text/plain": [
       "16"
      ]
     },
     "execution_count": 37,
     "metadata": {},
     "output_type": "execute_result"
    }
   ],
   "source": [
    "pw.age"
   ]
  },
  {
   "cell_type": "code",
   "execution_count": 38,
   "id": "9fe77f00-0dd6-4321-9f65-d5914d180e98",
   "metadata": {},
   "outputs": [
    {
     "data": {
      "text/plain": [
       "'female'"
      ]
     },
     "execution_count": 38,
     "metadata": {},
     "output_type": "execute_result"
    }
   ],
   "source": [
    "pw.gender"
   ]
  },
  {
   "cell_type": "code",
   "execution_count": 39,
   "id": "fb024e0b-c497-4908-96c6-896fad204d2f",
   "metadata": {},
   "outputs": [
    {
     "data": {
      "text/plain": [
       "'unnu'"
      ]
     },
     "execution_count": 39,
     "metadata": {},
     "output_type": "execute_result"
    }
   ],
   "source": [
    "pw.name"
   ]
  },
  {
   "cell_type": "code",
   "execution_count": 41,
   "id": "221fb78a-9a2c-4b53-a39d-79b1a45c2118",
   "metadata": {},
   "outputs": [],
   "source": [
    "pw.person_details()\n"
   ]
  },
  {
   "cell_type": "code",
   "execution_count": 42,
   "id": "ed340138-398e-4527-ac65-b3aed35f5cec",
   "metadata": {},
   "outputs": [],
   "source": [
    "#The self keyword is used to represent an instance (object) of the given class. "
   ]
  },
  {
   "cell_type": "code",
   "execution_count": 44,
   "id": "063e4c76-8d9b-4dc2-a7a8-a47944535ccd",
   "metadata": {},
   "outputs": [],
   "source": [
    "class parent:\n",
    "    \n",
    "    def test_parent(self):\n",
    "        print(\"this is my parent class\")"
   ]
  },
  {
   "cell_type": "code",
   "execution_count": 45,
   "id": "f8dbd290-96ff-43fd-b8e5-f1d271b2108e",
   "metadata": {},
   "outputs": [],
   "source": [
    "class child1(parent):\n",
    "    pass"
   ]
  },
  {
   "cell_type": "code",
   "execution_count": 48,
   "id": "154879f2-4c65-4200-8a47-d56dee5efaf6",
   "metadata": {},
   "outputs": [],
   "source": [
    "child_obj = child1()"
   ]
  },
  {
   "cell_type": "code",
   "execution_count": 49,
   "id": "8c10460f-70a8-4244-82d7-aee9a5543feb",
   "metadata": {},
   "outputs": [
    {
     "name": "stdout",
     "output_type": "stream",
     "text": [
      "this is my parent class\n"
     ]
    }
   ],
   "source": [
    "child_obj.test_parent()"
   ]
  },
  {
   "cell_type": "code",
   "execution_count": 59,
   "id": "ab5900ce-0513-4fff-aae5-b26ed98dc9a4",
   "metadata": {},
   "outputs": [],
   "source": [
    "class child2(parent):\n",
    "    pass"
   ]
  },
  {
   "cell_type": "code",
   "execution_count": 60,
   "id": "96b480c5-6ea3-4d92-9579-7a6b5ac09088",
   "metadata": {},
   "outputs": [],
   "source": [
    "child_obj = child2()"
   ]
  },
  {
   "cell_type": "code",
   "execution_count": 61,
   "id": "5837aa60-44b3-4ca2-a37c-2fbd7c0df2f9",
   "metadata": {},
   "outputs": [
    {
     "name": "stdout",
     "output_type": "stream",
     "text": [
      "this is my parent class\n"
     ]
    }
   ],
   "source": [
    "child_obj.test_parent()"
   ]
  },
  {
   "cell_type": "code",
   "execution_count": null,
   "id": "8725b923-4f01-4657-a26e-0b5cff640f27",
   "metadata": {},
   "outputs": [],
   "source": []
  },
  {
   "cell_type": "code",
   "execution_count": null,
   "id": "65706003-372b-40b8-b3e6-4a81e6e6a393",
   "metadata": {},
   "outputs": [],
   "source": []
  }
 ],
 "metadata": {
  "kernelspec": {
   "display_name": "Python 3 (ipykernel)",
   "language": "python",
   "name": "python3"
  },
  "language_info": {
   "codemirror_mode": {
    "name": "ipython",
    "version": 3
   },
   "file_extension": ".py",
   "mimetype": "text/x-python",
   "name": "python",
   "nbconvert_exporter": "python",
   "pygments_lexer": "ipython3",
   "version": "3.10.8"
  }
 },
 "nbformat": 4,
 "nbformat_minor": 5
}
